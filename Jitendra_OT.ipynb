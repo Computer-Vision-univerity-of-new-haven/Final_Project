{
 "cells": [
  {
   "cell_type": "code",
   "execution_count": 1,
   "id": "98e1293d",
   "metadata": {},
   "outputs": [],
   "source": [
    "# import the necessary packages\n",
    "from imutils.video import VideoStream\n",
    "from imutils.video import FPS\n",
    "import argparse\n",
    "import imutils\n",
    "import time\n",
    "import cv2"
   ]
  },
  {
   "cell_type": "code",
   "execution_count": 2,
   "id": "b97a677b",
   "metadata": {},
   "outputs": [],
   "source": [
    "import cv2\n",
    "\n",
    "TrDict = {\n",
    "    'csrt': cv2.TrackerCSRT_create,\n",
    "    'kcf': cv2.TrackerKCF_create,\n",
    "    'mil': cv2.TrackerMIL_create,\n",
    "    'boosting': cv2.legacy.TrackerBoosting_create,\n",
    "    'mil': cv2.legacy.TrackerMIL_create,\n",
    "    'tld': cv2.legacy.TrackerTLD_create,\n",
    "    'medianflow': cv2.legacy.TrackerMedianFlow_create,\n",
    "    'mosse': cv2.legacy.TrackerMOSSE_create\n",
    "    \n",
    "\n",
    "}\n",
    "\n",
    "\n"
   ]
  },
  {
   "cell_type": "code",
   "execution_count": 3,
   "id": "108b81fb",
   "metadata": {},
   "outputs": [],
   "source": [
    "tracker = TrDict['csrt']()\n",
    "tracker = cv2.TrackerCSRT_create()\n"
   ]
  },
  {
   "cell_type": "code",
   "execution_count": 11,
   "id": "07d613d7",
   "metadata": {},
   "outputs": [],
   "source": [
    "#v = cv2.VideoCapture(r\"C:\\Users\\kadiy\\Downloads\\mot.mp4\")\n",
    "#v = cv2.VideoCapture(0)\n",
    "#v = cv2.VideoCapture(r\"C:\\Users\\kadiy\\Downloads\\4K Video of Highway Traffic! (1).mp4\")\n",
    "#v = cv2.VideoCapture(r\"C:\\Users\\kadiy\\Downloads\\obtrack.mp4\")\n",
    "v = cv2.VideoCapture(r\"C:\\Users\\kadiy\\Downloads\\vtest.avi\")"
   ]
  },
  {
   "cell_type": "code",
   "execution_count": null,
   "id": "b3ec0a37",
   "metadata": {},
   "outputs": [],
   "source": [
    "ret, frame = v.read()\n",
    "frame = imutils.resize(frame,width=600)\n",
    "cv2.imshow('Frame',frame)\n",
    "bb = cv2.selectROI('Frame',frame)\n",
    "tracker.init(frame,bb)\n"
   ]
  },
  {
   "cell_type": "code",
   "execution_count": 10,
   "id": "ad07d30c",
   "metadata": {},
   "outputs": [],
   "source": [
    "while True:\n",
    "    ret, frame = v.read()\n",
    "    if not ret:\n",
    "        break\n",
    "    frame = imutils.resize(frame,width=600)\n",
    "    (success,box) = tracker.update(frame)\n",
    "    if success:\n",
    "        (x,y,w,h) = [int(a) for a in box]\n",
    "        cv2.rectangle(frame,(x,y),(x+w,y+h),(100,255,0),2)\n",
    "    cv2.imshow('Frame',frame)\n",
    "    key = cv2.waitKey(100) & 0xFF\n",
    "    if key == ord('q'):\n",
    "        break\n",
    "v.release()\n",
    "cv2.destroyAllWindows()"
   ]
  },
  {
   "cell_type": "code",
   "execution_count": null,
   "id": "f9c8965e",
   "metadata": {},
   "outputs": [],
   "source": []
  }
 ],
 "metadata": {
  "kernelspec": {
   "display_name": "Python 3 (ipykernel)",
   "language": "python",
   "name": "python3"
  },
  "language_info": {
   "codemirror_mode": {
    "name": "ipython",
    "version": 3
   },
   "file_extension": ".py",
   "mimetype": "text/x-python",
   "name": "python",
   "nbconvert_exporter": "python",
   "pygments_lexer": "ipython3",
   "version": "3.11.4"
  }
 },
 "nbformat": 4,
 "nbformat_minor": 5
}
